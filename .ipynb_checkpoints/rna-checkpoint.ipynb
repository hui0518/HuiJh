{
 "cells": [
  {
   "cell_type": "code",
   "execution_count": null,
   "metadata": {},
   "outputs": [],
   "source": []
  },
  {
   "cell_type": "code",
   "execution_count": null,
   "metadata": {},
   "outputs": [],
   "source": []
  },
  {
   "cell_type": "code",
   "execution_count": null,
   "metadata": {},
   "outputs": [],
   "source": []
  },
  {
   "cell_type": "code",
   "execution_count": 8,
   "metadata": {},
   "outputs": [],
   "source": [
    "class RNA:\n",
    "    def __init__(self, rna = ''):\n",
    "        self.rna = rna.upper()\n",
    "        self.codon = {'UUU':'Phe', 'UUC': 'Phe', 'UUA':'Leu', 'UUG':'Leu', 'CUU':'Leu', 'CUC':'Leu', 'CUA':'Leu', 'CUG':'Leu', 'AUU':'Ile', 'AUC':'Ile', 'AUA':'Ile', 'AUG':'Met', 'GUU':'Val', 'GUC':'Val', 'GUA':'Val', 'GUG':'Val', 'UCU':'Ser', 'UCC':'Ser', 'UCA':'Ser', 'UCG':'Ser', 'CCU':'Pro', 'CCC':'Pro', 'CCA':'Pro', 'CCG':'Pro', 'ACU':'Thr', 'ACC':'Thr', 'ACA':'Thr', 'ACG':'Thr', 'GCU':'Ala', 'GCC':'Ala', 'GCA':'Ala', 'GCG':'Ala', 'UAU':'Tyr', 'UAC':'Tyr', 'UAA':'STOP', 'UAG':'STOP', 'CAU':'His', 'CAC':'His', 'CAA':'Gln', 'CAG':'Gln', 'AAU':'Asn', 'AAC':'Asn', 'AAA':'Lys', 'AAG':'Lys', 'GAU':'Asp', 'GAC':'Asp', 'GAA':'Glu', 'GAG':'Glu', 'UGU':'Cys', 'UGC':'Cys', 'UGA':'STOP', 'UGG':'Trp', 'CGU':'Arg', 'CGC':'Arg', 'CGA':'Arg', 'CGG':'Arg', 'AGU':'Ser', 'AGC':'Ser', 'AGA':'Arg', 'AGC':'Arg', 'GGU':'Gly', 'GGC':'Gly', 'GGA':'Gly', 'GGG':'Gly'}\n",
    "    def __str__(self):\n",
    "        return \"RNA 3'-\" + self.rna + \"-5'\"\n",
    "    def complement(self):\n",
    "        pair = {'A' : 'U', 'U' : 'A', 'G' : 'C', 'C' : 'G'}\n",
    "        reverse = lambda x : pair[x]\n",
    "        string = list(map(reverse, (self.rna[::-1])))\n",
    "        return RNA(''.join(string))\n",
    "    def transcription(self):\n",
    "        mrna = self.complement()\n",
    "        return mRNA(mrna.rna)\n",
    "    def simpleTranslation(self):\n",
    "        def split(self):\n",
    "            li = list(map(''.join, zip(*[iter(self.rna)]*3)))\n",
    "            if len(li[-1]) < 3:\n",
    "                li.pop()\n",
    "            return li\n",
    "        li = list(map(lambda x : self.codon[x], split(self)))\n",
    "        return li\n",
    "    def translation(self):\n",
    "        if not 'AUG' in self.rna:\n",
    "            return ''\n",
    "        else:\n",
    "            start = RNA(self.rna[self.rna.index('AUG'):])\n",
    "            start = start.complement()\n",
    "            li = start.simpleTranslation()\n",
    "        if 'STOP' in li:\n",
    "            li = li[:li.index('STOP')]\n",
    "        print('-'.join(li))\n",
    "    def show(self):\n",
    "        pass #3d 구현\n",
    "        \n",
    "class mRNA(RNA):\n",
    "    def __init__(self, mrna = ''):\n",
    "        self.mrna = mrna.upper()\n",
    "        self.codon = {'UUU':'Phe', 'UUC': 'Phe', 'UUA':'Leu', 'UUG':'Leu', 'CUU':'Leu', 'CUC':'Leu', 'CUA':'Leu', 'CUG':'Leu', 'AUU':'Ile', 'AUC':'Ile', 'AUA':'Ile', 'AUG':'Met', 'GUU':'Val', 'GUC':'Val', 'GUA':'Val', 'GUG':'Val', 'UCU':'Ser', 'UCC':'Ser', 'UCA':'Ser', 'UCG':'Ser', 'CCU':'Pro', 'CCC':'Pro', 'CCA':'Pro', 'CCG':'Pro', 'ACU':'Thr', 'ACC':'Thr', 'ACA':'Thr', 'ACG':'Thr', 'GCU':'Ala', 'GCC':'Ala', 'GCA':'Ala', 'GCG':'Ala', 'UAU':'Tyr', 'UAC':'Tyr', 'UAA':'STOP', 'UAG':'STOP', 'CAU':'His', 'CAC':'His', 'CAA':'Gln', 'CAG':'Gln', 'AAU':'Asn', 'AAC':'Asn', 'AAA':'Lys', 'AAG':'Lys', 'GAU':'Asp', 'GAC':'Asp', 'GAA':'Glu', 'GAG':'Glu', 'UGU':'Cys', 'UGC':'Cys', 'UGA':'STOP', 'UGG':'Trp', 'CGU':'Arg', 'CGC':'Arg', 'CGA':'Arg', 'CGG':'Arg', 'AGU':'Ser', 'AGC':'Ser', 'AGA':'Arg', 'AGC':'Arg', 'GGU':'Gly', 'GGC':'Gly', 'GGA':'Gly', 'GGG':'Gly'}\n",
    "    def __str__(self):\n",
    "        return \"mRNA 3'-\" + self.mrna + \"-5'\"\n",
    "    def translation(self):\n",
    "        if not 'AUG' in self.rna:\n",
    "            return ''\n",
    "        else:\n",
    "            start = RNA(self.rna[self.rna.index('AUG'):])\n",
    "            li = start.simpleTranslation()\n",
    "        if 'STOP' in li:\n",
    "            li = li[:li.index('STOP')]\n",
    "        print('-'.join(li))\n",
    "    def show(self):\n",
    "        pass\n",
    "        \n",
    "class DNA(RNA):\n",
    "    def __init__(self, dna = ''):\n",
    "        self.dna = dna.upper()\n",
    "        self.codon = {'TTT':'Phe', 'TTC': 'Phe', 'TTA':'Leu', 'TTG':'Leu', 'CTT':'Leu', 'CTC':'Leu', 'CTA':'Leu', 'CTG':'Leu', 'ATT':'Ile', 'ATC':'Ile', 'ATA':'Ile', 'ATG':'Met', 'GTT':'Val', 'GTC':'Val', 'GTA':'Val', 'GTG':'Val', 'TCT':'Ser', 'TCC':'Ser', 'TCA':'Ser', 'TCG':'Ser', 'CCT':'Pro', 'CCC':'Pro', 'CCA':'Pro', 'CCG':'Pro', 'ACT':'Thr', 'ACC':'Thr', 'ACA':'Thr', 'ACG':'Thr', 'GCT':'Ala', 'GCC':'Ala', 'GCA':'Ala', 'GCG':'Ala', 'TAT':'Tyr', 'TAC':'Tyr', 'TAA':'STOP', 'TAG':'STOP', 'CAT':'His', 'CAC':'His', 'CAA':'Gln', 'CAG':'Gln', 'AAT':'Asn', 'AAC':'Asn', 'AAA':'Lys', 'AAG':'Lys', 'GAT':'Asp', 'GAC':'Asp', 'GAA':'Glu', 'GAG':'Glu', 'TGT':'Cys', 'TGC':'Cys', 'TGA':'STOP', 'TGG':'Trp', 'CGT':'Arg', 'CGC':'Arg', 'CGA':'Arg', 'CGG':'Arg', 'AGT':'Ser', 'AGC':'Ser', 'AGA':'Arg', 'AGC':'Arg', 'GGT':'Gly', 'GGC':'Gly', 'GGA':'Gly', 'GGG':'Gly'}\n",
    "    def __str__(self):\n",
    "        return \"DNA 3'-\" + self.dna + \"-5'\"\n",
    "        \n",
    "\n",
    "        \n",
    "        "
   ]
  },
  {
   "cell_type": "code",
   "execution_count": 9,
   "metadata": {},
   "outputs": [
    {
     "name": "stdout",
     "output_type": "stream",
     "text": [
      "Lys-Leu-Lys-Lys-Lys-Lys-Lys-His\n"
     ]
    }
   ],
   "source": [
    "a = RNA('uauguuuuuuuuuuuuuuuuaguuu')\n",
    "a.translation()"
   ]
  },
  {
   "cell_type": "code",
   "execution_count": 10,
   "metadata": {},
   "outputs": [
    {
     "name": "stdout",
     "output_type": "stream",
     "text": [
      "RNA 3'-AAUGAAAAA-5'\n"
     ]
    }
   ],
   "source": [
    "a = RNA('aaugaaaaa')\n",
    "print(a)"
   ]
  },
  {
   "cell_type": "code",
   "execution_count": null,
   "metadata": {},
   "outputs": [],
   "source": []
  },
  {
   "cell_type": "code",
   "execution_count": null,
   "metadata": {},
   "outputs": [],
   "source": []
  },
  {
   "cell_type": "code",
   "execution_count": null,
   "metadata": {},
   "outputs": [],
   "source": []
  }
 ],
 "metadata": {
  "kernelspec": {
   "display_name": "Python 3",
   "language": "python",
   "name": "python3"
  },
  "language_info": {
   "codemirror_mode": {
    "name": "ipython",
    "version": 3
   },
   "file_extension": ".py",
   "mimetype": "text/x-python",
   "name": "python",
   "nbconvert_exporter": "python",
   "pygments_lexer": "ipython3",
   "version": "3.7.1"
  }
 },
 "nbformat": 4,
 "nbformat_minor": 2
}
