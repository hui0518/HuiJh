{
 "cells": [
  {
   "cell_type": "code",
   "execution_count": 20,
   "metadata": {},
   "outputs": [],
   "source": [
    "class RNA:\n",
    "    def __init__(self, rna = None):\n",
    "        self.rna = rna.upper()\n",
    "    def split(self):\n",
    "        li = list(map(''.join, zip(*[iter(self.rna)]*3)))\n",
    "        if len(li[-1]) < 3:\n",
    "            li.pop()\n",
    "        return li\n",
    "    def translation(self):\n",
    "        codon = {'UUU':'Phe', 'UUC': 'Phe', 'UUA':'Leu', 'UUG':'Leu', 'CUU':'Leu', 'CUC':'Leu', 'CUA':'Leu', 'CUG':'Leu', 'AUU':'Ile', 'AUC':'Ile', 'AUA':'Ile', 'AUG':'Met', 'GUU':'Val', 'GUC':'Val', 'GUA':'Val', 'GUG':'Val', 'UCU':'Ser', 'UCC':'Ser', 'UCA':'Ser', 'UCG':'Ser', 'CCU':'Pro', 'CCC':'Pro', 'CCA':'Pro', 'CCG':'Pro', 'ACU':'Thr', 'ACC':'Thr', 'ACA':'Thr', 'ACG':'Thr', 'GCU':'Ala', 'GCC':'Ala', 'GCA':'Ala', 'GCG':'Ala', 'UAU':'Tyr', 'UAC':'Tyr', 'UAA':'STOP', 'UAG':'STOP', 'CAU':'His', 'CAC':'His', 'CAA':'Gln', 'CAG':'Gln', 'AAU':'Asn', 'AAC':'Asn', 'AAA':'Lys', 'AAG':'Lys', 'GAU':'Asp', 'GAC':'Asp', 'GAA':'Glu', 'GAG':'Glu', 'UGU':'Cys', 'UGC':'Cys', 'UGA':'STOP', 'UGG':'Trp', 'CGU':'Arg', 'CGC':'Arg', 'CGA':'Arg', 'CGG':'Arg', 'AGU':'Ser', 'AGC':'Ser', 'AGA':'Arg', 'AGC':'Arg', 'GGU':'Gly', 'GGC':'Gly', 'GGA':'Gly', 'GGG':'Gly'}\n",
    "        AminoAcid = ''\n",
    "        for i in self.split():\n",
    "            AminoAcid += '-' + codon[i]\n",
    "        print(AminoAcid[1:])"
   ]
  },
  {
   "cell_type": "code",
   "execution_count": 21,
   "metadata": {},
   "outputs": [
    {
     "name": "stdout",
     "output_type": "stream",
     "text": [
      "Phe-Phe-Phe\n"
     ]
    }
   ],
   "source": [
    "a = RNA('uuuuuuuuu')\n",
    "a.translation()"
   ]
  },
  {
   "cell_type": "code",
   "execution_count": null,
   "metadata": {},
   "outputs": [],
   "source": []
  }
 ],
 "metadata": {
  "kernelspec": {
   "display_name": "Python 3",
   "language": "python",
   "name": "python3"
  },
  "language_info": {
   "codemirror_mode": {
    "name": "ipython",
    "version": 3
   },
   "file_extension": ".py",
   "mimetype": "text/x-python",
   "name": "python",
   "nbconvert_exporter": "python",
   "pygments_lexer": "ipython3",
   "version": "3.7.1"
  }
 },
 "nbformat": 4,
 "nbformat_minor": 2
}
